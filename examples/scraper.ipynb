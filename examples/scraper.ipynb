{
 "cells": [
  {
   "cell_type": "code",
   "execution_count": 1,
   "metadata": {},
   "outputs": [],
   "source": [
    "import sys\n",
    "sys.path.append('../src/')\n",
    "from scraper.scraper import LiveTrailScraper"
   ]
  },
  {
   "cell_type": "code",
   "execution_count": 2,
   "metadata": {},
   "outputs": [
    {
     "name": "stdout",
     "output_type": "stream",
     "text": [
      "All data was successfully dwonloaded.\n"
     ]
    }
   ],
   "source": [
    "events = ['transgrancanaria']#, 'utmb', 'aranbyutmb']\n",
    "years = ['2023']\n",
    "\n",
    "scr = LiveTrailScraper(events=events, years=years)\n",
    "\n",
    "# Download data\n",
    "result = scr.download_data()\n",
    "if result > 0:\n",
    "    print(f\"There have been {result} errors. Please check for missing data.\")\n",
    "else:\n",
    "    print(\"All data was successfully dwonloaded.\")"
   ]
  }
 ],
 "metadata": {
  "kernelspec": {
   "display_name": "MLTrail",
   "language": "python",
   "name": "python3"
  },
  "language_info": {
   "codemirror_mode": {
    "name": "ipython",
    "version": 3
   },
   "file_extension": ".py",
   "mimetype": "text/x-python",
   "name": "python",
   "nbconvert_exporter": "python",
   "pygments_lexer": "ipython3",
   "version": "3.10.13"
  },
  "orig_nbformat": 4
 },
 "nbformat": 4,
 "nbformat_minor": 2
}
