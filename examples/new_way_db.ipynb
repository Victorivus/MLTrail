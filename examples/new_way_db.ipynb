{
 "cells": [
  {
   "cell_type": "code",
   "execution_count": 1,
   "metadata": {},
   "outputs": [],
   "source": [
    "import os\n",
    "import re\n",
    "import sys\n",
    "import sqlite3\n",
    "import pandas as pd\n",
    "sys.path.append('../src/')\n",
    "from scraper.scraper import LiveTrailScraper\n",
    "from results.results import Results\n",
    "from database.create_db import Database\n",
    "from database import database  as db # import Event, Race, Results\n",
    "import importlib\n",
    "import results.results\n",
    "importlib.reload(results.results)\n",
    "from results.results import Results\n",
    "import importlib\n",
    "import database.database\n",
    "importlib.reload(database.database)\n",
    "from database.create_db import Database\n",
    "from database import database as db # import Event, Race, Results\n",
    "import importlib\n",
    "import scraper.scraper\n",
    "importlib.reload(scraper.scraper)\n",
    "from scraper.scraper import LiveTrailScraper\n",
    "scraper = LiveTrailScraper()\n"
   ]
  },
  {
   "cell_type": "code",
   "execution_count": 2,
   "metadata": {},
   "outputs": [
    {
     "name": "stdout",
     "output_type": "stream",
     "text": [
      "Database already exists.\n"
     ]
    }
   ],
   "source": [
    "my_db: Database = Database.create_database(path='../data/parsed_data.db')\n"
   ]
  },
  {
   "cell_type": "code",
   "execution_count": 3,
   "metadata": {},
   "outputs": [
    {
     "name": "stdout",
     "output_type": "stream",
     "text": [
      "Database already exists.\n"
     ]
    }
   ],
   "source": [
    "\n",
    "# events={'transgrancanaria': 'TRANSGRANCANARIA'}\n",
    "# years={'transgrancanaria': ['2024']}\n",
    "event = 'transgrancanaria'\n",
    "year = '2024'\n",
    "race = 'classic'\n",
    "event_id = db.Event.get_id_from_code_year(event, year)\n",
    "raw_results = db.Results.load_from_database(race, event_id, my_db)"
   ]
  },
  {
   "cell_type": "code",
   "execution_count": 4,
   "metadata": {},
   "outputs": [
    {
     "data": {
      "text/plain": [
       "<database.database.Results at 0x7f90201b5d20>"
      ]
     },
     "execution_count": 4,
     "metadata": {},
     "output_type": "execute_result"
    }
   ],
   "source": [
    "raw_results"
   ]
  }
 ],
 "metadata": {
  "kernelspec": {
   "display_name": "MLTrail",
   "language": "python",
   "name": "python3"
  },
  "language_info": {
   "codemirror_mode": {
    "name": "ipython",
    "version": 3
   },
   "file_extension": ".py",
   "mimetype": "text/x-python",
   "name": "python",
   "nbconvert_exporter": "python",
   "pygments_lexer": "ipython3",
   "version": "3.10.13"
  }
 },
 "nbformat": 4,
 "nbformat_minor": 2
}
